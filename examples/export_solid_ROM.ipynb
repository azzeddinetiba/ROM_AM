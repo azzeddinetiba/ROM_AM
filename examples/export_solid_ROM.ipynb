{
 "cells": [
  {
   "cell_type": "code",
   "execution_count": 1,
   "metadata": {},
   "outputs": [],
   "source": [
    "import numpy as np\n",
    "from mpl_toolkits import mplot3d\n",
    "from rom_am import EDMD, DMD, ROM\n",
    "import matplotlib.pyplot as plt\n",
    "import scipy.interpolate as si\n",
    "import time"
   ]
  },
  {
   "cell_type": "markdown",
   "metadata": {},
   "source": [
    "## Importing the HF solution data"
   ]
  },
  {
   "cell_type": "code",
   "execution_count": 2,
   "metadata": {},
   "outputs": [],
   "source": [
    "pist_pressure = np.load(\"../DATA/nonlin_Fsi_Results/nln_pist_pressure.npy\")\n",
    "nnt = pist_pressure.shape[0]\n",
    "moving_mesh = np.load(\"../DATA/nonlin_Fsi_Results/nln_moving_mesh.npy\")\n",
    "delta_t = np.load(\"../DATA/nonlin_Fsi_Results/nln_delta_t.npy\")\n",
    "sol_accel = np.load(\"../DATA/nonlin_Fsi_Results/nln_sol_accel.npy\")\n",
    "velocity = np.load(\"../DATA/nonlin_Fsi_Results/nln_fl_velocity_end.npy\")[0, :]\n",
    "\n",
    "t = np.cumsum(delta_t)\n",
    "nx = moving_mesh.shape[0]\n",
    "nt = pist_pressure.shape[0]\n",
    "L = 1\n",
    "L0 = 1\n",
    "mass = 1000\n",
    "rigid = 1e7\n",
    "Ls0 = 1.2\n",
    "Lse = Ls0 - 1e5 / rigid"
   ]
  },
  {
   "cell_type": "code",
   "execution_count": 3,
   "metadata": {},
   "outputs": [
    {
     "data": {
      "image/png": "[encoded data removed]",
      "text/plain": [
       "<Figure size 432x288 with 1 Axes>"
      ]
     },
     "metadata": {
      "needs_background": "light"
     },
     "output_type": "display_data"
    }
   ],
   "source": [
    "force = mass * sol_accel - pist_pressure\n",
    "plt.plot(moving_mesh[-1, :] - L0, force, label=r\"Non Linear Spring, $\\alpha = 6$\")\n",
    "plt.xlabel(\"u\");\n",
    "plt.ylabel(\"Force\");\n",
    "plt.grid();\n",
    "plt.legend();\n",
    "plt.tight_layout();"
   ]
  },
  {
   "cell_type": "markdown",
   "metadata": {},
   "source": [
    "**Interpolating on an equally sampled time grid**"
   ]
  },
  {
   "cell_type": "code",
   "execution_count": 4,
   "metadata": {},
   "outputs": [],
   "source": [
    "# Choose number of equally spaced timesteps \n",
    "dt = delta_t.min()\n",
    "\n",
    "# Interpolating original data to the new timesteps\n",
    "target_t = np.arange(t[0], t[-1]+dt, dt)\n",
    "ntt = target_t.shape[0]\n",
    "target_pist_pressure = si.griddata(t, pist_pressure.T, target_t, method='linear').T\n",
    "target_fl_m_mesh = si.griddata(t, moving_mesh.T, target_t, method='linear').T\n",
    "target_sol_accel = si.griddata(t, sol_accel.T, target_t, method='linear').T\n",
    "target_velocity = si.griddata(t, velocity.T, target_t, method='linear').T"
   ]
  },
  {
   "cell_type": "markdown",
   "metadata": {},
   "source": [
    "**Separating training and testing data**"
   ]
  },
  {
   "cell_type": "code",
   "execution_count": 5,
   "metadata": {},
   "outputs": [],
   "source": [
    "Coeff = 0.75\n",
    "train_disp = target_fl_m_mesh[-1, :].reshape((1, -1))[:, :int(Coeff*ntt)]-L0\n",
    "train_pres = target_pist_pressure.reshape((1, -1))[:, :int(Coeff*ntt)]\n",
    "train_sol_accel = target_sol_accel.reshape((1, -1))[:, :int(Coeff*ntt)]\n",
    "train_velocity = target_velocity.reshape((1, -1))[:, :int(Coeff*ntt)]\n",
    "train_t = target_t[:int(Coeff*ntt)]\n",
    "\n",
    "test_disp = target_fl_m_mesh[-1, :].reshape((1, -1))[:, int(Coeff*ntt)::]-L0\n",
    "test_pres = target_pist_pressure.reshape((1, -1))[:, int(Coeff*ntt)::]\n",
    "test_sol_accel = target_sol_accel.reshape((1, -1))[:, int(Coeff*ntt)::]\n",
    "test_velocity = target_velocity.reshape((1, -1))[:, int(Coeff*ntt)::]\n",
    "test_t = target_t[int(Coeff*ntt)::]\n",
    "\n",
    "X = train_disp[:1, :-1]\n",
    "Y = np.vstack((train_sol_accel[:1, 1::], train_disp[:1, 1::], train_velocity[:1, 1::]))\n",
    "observables = {\"X\" : [lambda x : x, lambda x : x**2, lambda x : x**3, lambda x : np.ones((1, X.shape[1])), lambda x : train_pres[:, :-1]],  \n",
    "               \"Y\" : [lambda x : x]}\n"
   ]
  },
  {
   "cell_type": "markdown",
   "metadata": {},
   "source": [
    "## eDMD learning"
   ]
  },
  {
   "cell_type": "code",
   "execution_count": 6,
   "metadata": {},
   "outputs": [],
   "source": [
    "edmd = EDMD()\n",
    "drom = ROM(edmd)\n",
    "drom.decompose(X,  Y = Y, dt = dt, observables=observables)"
   ]
  },
  {
   "cell_type": "code",
   "execution_count": 7,
   "metadata": {},
   "outputs": [
    {
     "data": {
      "text/plain": [
       "array([[-1.00782998e+04, -9.08729070e+03, -2.99880365e+05,\n",
       "        -1.09936132e+02,  1.09455165e-03],\n",
       "       [ 9.99802903e-01,  1.14707982e-03, -3.44592385e-04,\n",
       "         9.23563883e-05, -1.33560546e-09],\n",
       "       [-2.74117367e+01,  1.59761538e+02, -4.74390911e+01,\n",
       "         1.28392982e+01, -1.85755132e-04]])"
      ]
     },
     "execution_count": 7,
     "metadata": {},
     "output_type": "execute_result"
    }
   ],
   "source": [
    "edmd.A"
   ]
  },
  {
   "cell_type": "markdown",
   "metadata": {},
   "source": [
    "The model did learn the correct spring parameters, (see [the eDMD Spring notebook](./eDMD_Spring.ipynb) )"
   ]
  },
  {
   "cell_type": "markdown",
   "metadata": {},
   "source": [
    "## The prediction phase"
   ]
  },
  {
   "cell_type": "markdown",
   "metadata": {},
   "source": [
    "Now that these parameters are known we can solve the following ODE for $\\pmb{u(t)}$ and $\\pmb{v(t)}$\n",
    "\n",
    "$$(ODE1) : \\pmb{\\dot{y}} = \n",
    "\\begin{pmatrix}\n",
    "\\dot{u}(t)  \\\\\n",
    "\\dot{v}(t)  \\\\\n",
    "\\end{pmatrix} = \\begin{pmatrix}\n",
    "{v}(t)  \\\\\n",
    "a u(t) + b u(t)^2 + c u(t)^3 + d(t)\\\\\n",
    "\\end{pmatrix} = f(\\pmb{y}, t)$$\n",
    "$d(t) = d_1 + d_2 * p(t)$"
   ]
  },
  {
   "cell_type": "code",
   "execution_count": 8,
   "metadata": {},
   "outputs": [],
   "source": [
    "pred_t = test_t.copy()\n",
    "input_ = np.vstack((test_disp[:1, :], test_disp[:1, :]**2, test_disp[:1, :]**3, np.ones((1,len(pred_t))), test_pres))\n",
    "pred = np.real(drom.predict(pred_t, x_input = input_))"
   ]
  },
  {
   "cell_type": "code",
   "execution_count": 9,
   "metadata": {},
   "outputs": [
    {
     "data": {
      "image/png": "[encoded data removed]",
      "text/plain": [
       "<Figure size 432x288 with 1 Axes>"
      ]
     },
     "metadata": {
      "needs_background": "light"
     },
     "output_type": "display_data"
    }
   ],
   "source": [
    "plt.plot(test_t, pred[0, :]);\n",
    "plt.plot(test_t, test_sol_accel[0, :], 'r--');\n",
    "plt.tight_layout();"
   ]
  },
  {
   "cell_type": "code",
   "execution_count": null,
   "metadata": {},
   "outputs": [],
   "source": []
  }
 ],
 "metadata": {
  "kernelspec": {
   "display_name": "Python 3",
   "language": "python",
   "name": "python3"
  },
  "language_info": {
   "codemirror_mode": {
    "name": "ipython",
    "version": 3
   },
   "file_extension": ".py",
   "mimetype": "text/x-python",
   "name": "python",
   "nbconvert_exporter": "python",
   "pygments_lexer": "ipython3",
   "version": "3.8.3"
  }
 },
 "nbformat": 4,
 "nbformat_minor": 4
}
