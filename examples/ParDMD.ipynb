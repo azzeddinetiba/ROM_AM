{
 "cells": [
  {
   "cell_type": "code",
   "execution_count": 1,
   "id": "46d9bd78-4f09-47a6-9aeb-bfd06a537f75",
   "metadata": {},
   "outputs": [],
   "source": [
    "import numpy as np\n",
    "from mpl_toolkits import mplot3d\n",
    "from rom_am import ParDMD\n",
    "import matplotlib.pyplot as plt\n",
    "import time\n",
    "import scipy.interpolate as si"
   ]
  },
  {
   "cell_type": "code",
   "execution_count": 2,
   "id": "9391a2ad-3c37-4029-982f-c1549ab2d469",
   "metadata": {},
   "outputs": [],
   "source": [
    "fl_rho_v_1 = np.load(\"../DATA/Parametric/nln_results_coeff_1/nln_fl_rho_v_coeff_1.npy\")\n",
    "fl_rho_1 = np.load(\"../DATA/Parametric/nln_results_coeff_1/nln_fl_rho_coeff_1.npy\")\n",
    "moving_mesh_1 = np.load(\"../DATA/Parametric/nln_results_coeff_1/nln_moving_mesh_coeff_1.npy\")\n",
    "delta_t_1 = np.load(\"../DATA/Parametric/nln_results_coeff_1/nln_delta_t_coeff_1.npy\")\n",
    "fl_velocity_1 = fl_rho_v_1/fl_rho_1\n",
    "nt_1 = fl_rho_v_1.shape[0]\n",
    "t_1 = np.cumsum(delta_t_1)\n",
    "\n",
    "# Choose number of equally spaced timesteps \n",
    "n_T = 2.5 # ~ Number of modes in data\n",
    "n_snap = 280 # Number of snapshots in the train data\n",
    "frac = 2 # ~ Number of time periods in the train data\n",
    "ntt = int(n_snap /(frac/n_T)) # Number of snapshots in the test+train data\n",
    "dt = (t_1[-1] - t_1[0]) / (ntt - 1)\n",
    "Coeff = frac/n_T\n",
    "\n",
    "# Interpolating original data to the new timesteps\n",
    "target_t = np.linspace(t_1[0], t_1[-1], ntt)\n",
    "target_fl_m_mesh_1 = si.griddata(t_1, moving_mesh_1.T, target_t, method='linear').T\n",
    "target_velocity_1 = si.griddata(t_1, fl_velocity_1.T, target_t, method='linear').T\n",
    "\n",
    "train_velocity_1 = target_velocity_1[:, :int(Coeff*ntt)]\n",
    "train_mesh_1 = target_fl_m_mesh_1[:, :int(Coeff*ntt)]\n",
    "train_t = target_t[:int(Coeff*ntt)]\n",
    "\n",
    "test_velocity_1 = target_velocity_1[:, int(Coeff*ntt)::]\n",
    "test_mesh_1 = target_fl_m_mesh_1[:, int(Coeff*ntt)::]\n",
    "test_t = target_t[int(Coeff*ntt)::]"
   ]
  },
  {
   "cell_type": "code",
   "execution_count": 3,
   "id": "01c7953b-82be-4779-8df1-7e88ce2198c7",
   "metadata": {},
   "outputs": [],
   "source": [
    "fl_rho_v_2 = np.load(\"../DATA/Parametric/nln_results_coeff_2/nln_fl_rho_v.npy\")\n",
    "fl_rho_2 = np.load(\"../DATA/Parametric/nln_results_coeff_2/nln_fl_rho.npy\")\n",
    "moving_mesh_2 = np.load(\"../DATA/Parametric/nln_results_coeff_2/nln_moving_mesh.npy\")\n",
    "delta_t_2 = np.load(\"../DATA/Parametric/nln_results_coeff_2/nln_delta_t.npy\")\n",
    "fl_velocity_2 = fl_rho_v_2/fl_rho_2\n",
    "nt_2 = fl_rho_v_2.shape[0]\n",
    "t_2 = np.cumsum(delta_t_2)\n",
    "\n",
    "# Interpolating original data to the new timesteps\n",
    "target_fl_m_mesh_2 = si.griddata(t_2, moving_mesh_2.T, target_t, method='linear').T\n",
    "target_velocity_2 = si.griddata(t_2, fl_velocity_2.T, target_t, method='linear').T\n",
    "\n",
    "train_velocity_2 = target_velocity_2[:, :int(Coeff*ntt)]\n",
    "train_mesh_2 = target_fl_m_mesh_2[:, :int(Coeff*ntt)]\n",
    "\n",
    "test_velocity_2 = target_velocity_2[:, int(Coeff*ntt)::]\n",
    "test_mesh_2 = target_fl_m_mesh_2[:, int(Coeff*ntt)::]"
   ]
  },
  {
   "cell_type": "code",
   "execution_count": 4,
   "id": "19f46590-caad-40de-a1ad-d54897037325",
   "metadata": {},
   "outputs": [],
   "source": [
    "fl_rho_v_3 = np.load(\"../DATA/Parametric/nln_results_coeff_3/nln_fl_rho_v_coeff_3.npy\")\n",
    "fl_rho_3 = np.load(\"../DATA/Parametric/nln_results_coeff_3/nln_fl_rho_coeff_3.npy\")\n",
    "moving_mesh_3 = np.load(\"../DATA/Parametric/nln_results_coeff_3/nln_moving_mesh_coeff_3.npy\")\n",
    "delta_t_3 = np.load(\"../DATA/Parametric/nln_results_coeff_3/nln_delta_t_coeff_3.npy\")\n",
    "fl_velocity_3 = fl_rho_v_3/fl_rho_3\n",
    "nt_3 = fl_rho_v_3.shape[0]\n",
    "t_3 = np.cumsum(delta_t_3)\n",
    "\n",
    "# Interpolating original data to the new timesteps\n",
    "target_fl_m_mesh_3 = si.griddata(t_3, moving_mesh_3.T, target_t, method='linear').T\n",
    "target_velocity_3 = si.griddata(t_3, fl_velocity_3.T, target_t, method='linear').T\n",
    "\n",
    "train_velocity_3 = target_velocity_3[:, :int(Coeff*ntt)]\n",
    "train_mesh_3 = target_fl_m_mesh_3[:, :int(Coeff*ntt)]\n",
    "\n",
    "test_velocity_3 = target_velocity_3[:, int(Coeff*ntt)::]\n",
    "test_mesh_3 = target_fl_m_mesh_3[:, int(Coeff*ntt)::]"
   ]
  },
  {
   "cell_type": "code",
   "execution_count": 5,
   "id": "c24768c2-1670-48fe-8c54-d9a0fdc99123",
   "metadata": {},
   "outputs": [],
   "source": [
    "fl_rho_v_4 = np.load(\"../DATA/Parametric/nln_results_coeff_4/nln_fl_rho_v_coeff_4.npy\")\n",
    "fl_rho_4 = np.load(\"../DATA/Parametric/nln_results_coeff_4/nln_fl_rho_coeff_4.npy\")\n",
    "moving_mesh_4 = np.load(\"../DATA/Parametric/nln_results_coeff_4/nln_moving_mesh_coeff_4.npy\")\n",
    "delta_t_4 = np.load(\"../DATA/Parametric/nln_results_coeff_4/nln_delta_t_coeff_4.npy\")\n",
    "fl_velocity_4 = fl_rho_v_4/fl_rho_4\n",
    "nt_4 = fl_rho_v_4.shape[0]\n",
    "t_4 = np.cumsum(delta_t_4)\n",
    "\n",
    "# Interpolating original data to the new timesteps\n",
    "target_fl_m_mesh_4 = si.griddata(t_4, moving_mesh_4.T, target_t, method='linear').T\n",
    "target_velocity_4 = si.griddata(t_4, fl_velocity_4.T, target_t, method='linear').T\n",
    "\n",
    "train_velocity_4 = target_velocity_4[:, :int(Coeff*ntt)]\n",
    "train_mesh_4 = target_fl_m_mesh_4[:, :int(Coeff*ntt)]\n",
    "\n",
    "test_velocity_4 = target_velocity_4[:, int(Coeff*ntt)::]\n",
    "test_mesh_4 = target_fl_m_mesh_4[:, int(Coeff*ntt)::]"
   ]
  },
  {
   "cell_type": "code",
   "execution_count": 6,
   "id": "a7978c0e-4092-48ab-9322-a548b0f5eb98",
   "metadata": {},
   "outputs": [],
   "source": [
    "fl_rho_v_5 = np.load(\"../DATA/Parametric/nln_results_coeff_5/nln_fl_rho_v_coeff_5.npy\")\n",
    "fl_rho_5 = np.load(\"../DATA/Parametric/nln_results_coeff_5/nln_fl_rho_coeff_5.npy\")\n",
    "moving_mesh_5 = np.load(\"../DATA/Parametric/nln_results_coeff_5/nln_moving_mesh_coeff_5.npy\")\n",
    "delta_t_5 = np.load(\"../DATA/Parametric/nln_results_coeff_5/nln_delta_t_coeff_5.npy\")\n",
    "fl_velocity_5 = fl_rho_v_5/fl_rho_5\n",
    "nt_5 = fl_rho_v_5.shape[0]\n",
    "t_5 = np.cumsum(delta_t_5)\n",
    "\n",
    "# Interpolating original data to the new timesteps\n",
    "target_fl_m_mesh_5 = si.griddata(t_5, moving_mesh_5.T, target_t, method='linear').T\n",
    "target_velocity_5 = si.griddata(t_5, fl_velocity_5.T, target_t, method='linear').T\n",
    "\n",
    "train_velocity_5 = target_velocity_5[:, :int(Coeff*ntt)]\n",
    "train_mesh_5 = target_fl_m_mesh_5[:, :int(Coeff*ntt)]\n",
    "\n",
    "test_velocity_5 = target_velocity_5[:, int(Coeff*ntt)::]\n",
    "test_mesh_5 = target_fl_m_mesh_5[:, int(Coeff*ntt)::]"
   ]
  },
  {
   "cell_type": "code",
   "execution_count": 7,
   "id": "e20a63c5-fd16-4273-ba86-49f32311ef7d",
   "metadata": {},
   "outputs": [],
   "source": [
    "fl_rho_v_6 = np.load(\"../DATA/Parametric/nln_results_coeff_6//nln_fl_rho_v.npy\")\n",
    "fl_rho_6 = np.load(\"../DATA/Parametric/nln_results_coeff_6/nln_fl_rho.npy\")\n",
    "moving_mesh_6 = np.load(\"../DATA/Parametric/nln_results_coeff_6/nln_moving_mesh.npy\")\n",
    "delta_t_6 = np.load(\"../DATA/Parametric/nln_results_coeff_6/nln_delta_t.npy\")\n",
    "fl_velocity_6 = fl_rho_v_6/fl_rho_6\n",
    "nt_6 = fl_rho_v_6.shape[0]\n",
    "t_6 = np.cumsum(delta_t_6)\n",
    "\n",
    "# Interpolating original data to the new timesteps\n",
    "target_fl_m_mesh_6 = si.griddata(t_6, moving_mesh_6.T, target_t, method='linear').T\n",
    "target_velocity_6 = si.griddata(t_6, fl_velocity_6.T, target_t, method='linear').T\n",
    "\n",
    "train_velocity_6 = target_velocity_6[:, :int(Coeff*ntt)]\n",
    "train_mesh_6 = target_fl_m_mesh_6[:, :int(Coeff*ntt)]\n",
    "\n",
    "test_velocity_6 = target_velocity_6[:, int(Coeff*ntt)::]\n",
    "test_mesh_6 = target_fl_m_mesh_6[:, int(Coeff*ntt)::]"
   ]
  },
  {
   "cell_type": "code",
   "execution_count": 8,
   "id": "754ce085-d6a7-4c82-85fc-548e63d010ee",
   "metadata": {},
   "outputs": [],
   "source": [
    "nx = fl_velocity_1.shape[0]\n",
    "L = 1\n",
    "L0 = 1\n",
    "mass = 1000\n",
    "rigid = 1e7\n",
    "Ls0 = 1.2"
   ]
  },
  {
   "cell_type": "code",
   "execution_count": 9,
   "id": "114e283f-14ad-4564-9058-3144ef8343ad",
   "metadata": {},
   "outputs": [],
   "source": [
    "X = np.vstack(( np.hstack((train_velocity_1, train_velocity_2, train_velocity_3, train_velocity_4, train_velocity_5, train_velocity_6)),))\n",
    "\n",
    "X = X.swapaxes(0, 1).reshape((6, train_t.shape[0], nx),).swapaxes(1, 2)"
   ]
  },
  {
   "cell_type": "code",
   "execution_count": 10,
   "id": "fc1ca0f1-2967-470d-bd18-6b70e912677f",
   "metadata": {},
   "outputs": [],
   "source": [
    "muDMD = ParDMD()"
   ]
  },
  {
   "cell_type": "code",
   "execution_count": 11,
   "id": "a9f6fa8b-e1f1-401f-b981-a9dd62a9272d",
   "metadata": {},
   "outputs": [],
   "source": [
    "_, _, _ = muDMD.decompose(X=X, params = np.array([1., 2., 3., 4., 5., 6.]), dt = dt)"
   ]
  },
  {
   "cell_type": "code",
   "execution_count": 12,
   "id": "9d1c63de-ed21-4697-ae78-8fcbacc2070e",
   "metadata": {},
   "outputs": [],
   "source": [
    "result_ = muDMD.predict(target_t, 4.8, t1 = t_1[0])"
   ]
  },
  {
   "cell_type": "code",
   "execution_count": 13,
   "id": "d99a972c-4235-4fc5-a5ff-db344752bae1",
   "metadata": {},
   "outputs": [
    {
     "data": {
      "image/png": "[encoded data removed]",
      "text/plain": [
       "<Figure size 432x288 with 1 Axes>"
      ]
     },
     "metadata": {
      "needs_background": "light"
     },
     "output_type": "display_data"
    }
   ],
   "source": [
    "plt.plot(target_t, target_velocity_4[-1, :]);\n",
    "plt.plot(target_t, target_velocity_5[-1, :]);\n",
    "plt.grid();\n",
    "plt.tight_layout();\n",
    "plt.plot(target_t, np.real(result_[nx-1, :]));"
   ]
  },
  {
   "cell_type": "code",
   "execution_count": null,
   "id": "8d3c5bc5-126f-4839-b73a-3712c8af8485",
   "metadata": {},
   "outputs": [],
   "source": []
  },
  {
   "cell_type": "code",
   "execution_count": null,
   "id": "3416c4db-b884-49a5-a971-85d84196025f",
   "metadata": {},
   "outputs": [],
   "source": []
  }
 ],
 "metadata": {
  "kernelspec": {
   "display_name": "Python 3 (ipykernel)",
   "language": "python",
   "name": "python3"
  },
  "language_info": {
   "codemirror_mode": {
    "name": "ipython",
    "version": 3
   },
   "file_extension": ".py",
   "mimetype": "text/x-python",
   "name": "python",
   "nbconvert_exporter": "python",
   "pygments_lexer": "ipython3",
   "version": "3.8.10"
  }
 },
 "nbformat": 4,
 "nbformat_minor": 5
}
