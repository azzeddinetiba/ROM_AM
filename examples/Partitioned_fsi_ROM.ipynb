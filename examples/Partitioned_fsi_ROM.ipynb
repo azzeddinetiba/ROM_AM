{
 "cells": [
  {
   "cell_type": "code",
   "execution_count": 1,
   "metadata": {},
   "outputs": [],
   "source": [
    "import numpy as np\n",
    "from mpl_toolkits import mplot3d\n",
    "from rom_am import EDMD, DMD, ROM\n",
    "import matplotlib.pyplot as plt\n",
    "import scipy.interpolate as si"
   ]
  },
  {
   "cell_type": "code",
   "execution_count": null,
   "metadata": {},
   "outputs": [],
   "source": []
  },
  {
   "cell_type": "code",
   "execution_count": 2,
   "metadata": {},
   "outputs": [],
   "source": [
    "pist_pressure = np.load(\"../DATA/nonlin_Fsi_Results_coeff_1/nln_pist_pressure.npy\")\n",
    "nnt = pist_pressure.shape[0]\n",
    "moving_mesh = np.load(\"../DATA/nonlin_Fsi_Results_coeff_1/nln_moving_mesh.npy\")\n",
    "delta_t = np.load(\"../DATA/nonlin_Fsi_Results_coeff_1/nln_delta_t.npy\")\n",
    "sol_accel = np.load(\"../DATA/nonlin_Fsi_Results_coeff_1/nln_sol_accel.npy\")\n",
    "\n",
    "t = np.cumsum(delta_t)\n",
    "nx = moving_mesh.shape[0]\n",
    "nt = pist_pressure.shape[0]\n",
    "L = 1\n",
    "L0 = 1\n",
    "mass = 1000\n",
    "rigid = 1e7\n",
    "Ls0 = 1.2\n",
    "Lse = Ls0 - 1e5 / rigid"
   ]
  },
  {
   "cell_type": "code",
   "execution_count": 3,
   "metadata": {},
   "outputs": [
    {
     "data": {
      "image/png": "[encoded data removed]",
      "text/plain": [
       "<Figure size 432x288 with 1 Axes>"
      ]
     },
     "metadata": {
      "needs_background": "light"
     },
     "output_type": "display_data"
    }
   ],
   "source": [
    "force = mass * sol_accel - pist_pressure\n",
    "plt.plot(moving_mesh[-1, :] - L0, force, label=r\"Non Linear Spring, $\\alpha = 6$\")\n",
    "plt.xlabel(\"u\");\n",
    "plt.ylabel(\"Force\");\n",
    "plt.grid();\n",
    "plt.legend();\n",
    "plt.tight_layout();"
   ]
  },
  {
   "cell_type": "code",
   "execution_count": 14,
   "metadata": {},
   "outputs": [],
   "source": [
    "# Choose number of equally spaced timesteps \n",
    "T = 2.8\n",
    "n_snap = 280\n",
    "frac = 2\n",
    "ntt = int(n_snap /(frac/T))\n",
    "dt = (t[-1] - t[0]) / (ntt - 1)\n",
    "\n",
    "# Interpolating original data to the new timesteps\n",
    "target_t = np.linspace(t[0], t[-1], ntt)\n",
    "target_pist_pressure = si.griddata(t, pist_pressure.T, target_t, method='linear').T\n",
    "target_fl_m_mesh = si.griddata(t, moving_mesh.T, target_t, method='linear').T\n",
    "target_sol_accel = si.griddata(t, sol_accel.T, target_t, method='linear').T"
   ]
  },
  {
   "cell_type": "code",
   "execution_count": 17,
   "metadata": {},
   "outputs": [],
   "source": [
    "Coeff = 0.7\n",
    "train_disp = target_fl_m_mesh[-1, :].reshape((1, -1))[:, :int(Coeff*ntt)]-L0\n",
    "train_pres = target_pist_pressure.reshape((1, -1))[:, :int(Coeff*ntt)]\n",
    "train_sol_accel = target_sol_accel.reshape((1, -1))[:, :int(Coeff*ntt)]\n",
    "train_t = t[:int(Coeff*ntt)]\n",
    "\n",
    "test_disp = target_fl_m_mesh[-1, :].reshape((1, -1))[:, int(Coeff*ntt)::]-L0\n",
    "test_pres = target_pist_pressure.reshape((1, -1))[:, int(Coeff*ntt)::]\n",
    "test_sol_accel = target_sol_accel.reshape((1, -1))[:, int(Coeff*ntt)::]\n",
    "test_t = t[int(Coeff*ntt)::]\n",
    "\n",
    "X = train_disp[:1, :].reshape((1, -1))\n",
    "Y = train_disp[:1, :].reshape((1, -1))\n",
    "observables = {\"X\" : [lambda x : x, lambda x : x**2, lambda x : x**3, lambda x : np.ones((1, X.shape[1])), lambda x : train_pres],  \n",
    "               \"Y\" : [lambda x : train_sol_accel]}"
   ]
  },
  {
   "cell_type": "code",
   "execution_count": 18,
   "metadata": {},
   "outputs": [],
   "source": [
    "edmd = EDMD()\n",
    "drom = ROM(edmd)\n",
    "drom.decompose(X,  Y = Y, dt = dt, observables=observables)"
   ]
  },
  {
   "cell_type": "code",
   "execution_count": 19,
   "metadata": {},
   "outputs": [
    {
     "data": {
      "text/plain": [
       "array([[-1.00306895e+04, -3.01795926e+03, -1.00000649e+05,\n",
       "        -1.00299803e+02,  9.96545995e-04]])"
      ]
     },
     "execution_count": 19,
     "metadata": {},
     "output_type": "execute_result"
    }
   ],
   "source": [
    "edmd.A"
   ]
  },
  {
   "cell_type": "code",
   "execution_count": null,
   "metadata": {},
   "outputs": [],
   "source": [
    "mass = 1000\n",
    "rigid = 1e7\n",
    "mu_coeff = 2\n",
    "mu = mu_coeff * rigid / 0.2\n",
    "A = 1\n",
    "pres_init0 = 1e5\n",
    "Ls0 = 1.2\n",
    "L0 = 1\n",
    "if freq:\n",
    "    p = lambda t : pres * np.sin(2 * np.pi * freq * t)\n",
    "else:\n",
    "    p = lambda t : pres\n",
    "\n",
    "a_ = rigid;\n",
    "b_ = mu;\n",
    "c_ = A * pres_init0;\n",
    "interm = (((np.sqrt((27 * b_ * c_**2 + 4 * a_**3) / b_)) / (b_ * 2 * 3**(3. / 2.))) - c_ / (2 * b_))**(1. / 3.);\n",
    "u0 = interm - a_ / (3 * b_ * interm);\n",
    "\n",
    "a = -rigid/mass - 3*mu*(u0**2)/mass\n",
    "b = 3*mu*u0/mass\n",
    "c = -mu/mass\n",
    "d1 = (u0**3)*mu/mass + rigid * u0/mass \n",
    "d2 = A/mass\n",
    "d = lambda t : d1 + d2 * p(t)\n",
    "model_param = lambda t : np.array([a, b, c, d(t), d1, d2])\n",
    "v_dot = lambda u, t : c * u**3 + b * u**2 + a * u + d(t)\n",
    "\n",
    "ntt = 600\n",
    "dt = 6e-4\n",
    "input_t = np.arange(ntt)*dt\n",
    "\n",
    "from scipy.integrate import solve_ivp\n",
    "def f(t, y): return np.array([y[1], v_dot(y[0], t)])\n",
    "sol = solve_ivp(f, [0, input_t[-1]], np.array([(Ls0 - L0), 0]), t_eval = input_t)"
   ]
  }
 ],
 "metadata": {
  "kernelspec": {
   "display_name": "Python 3",
   "language": "python",
   "name": "python3"
  },
  "language_info": {
   "codemirror_mode": {
    "name": "ipython",
    "version": 3
   },
   "file_extension": ".py",
   "mimetype": "text/x-python",
   "name": "python",
   "nbconvert_exporter": "python",
   "pygments_lexer": "ipython3",
   "version": "3.8.3"
  }
 },
 "nbformat": 4,
 "nbformat_minor": 4
}
