{
 "cells": [
  {
   "cell_type": "code",
   "execution_count": 1,
   "id": "31d2cbf1",
   "metadata": {},
   "outputs": [],
   "source": [
    "import numpy as np\n",
    "import scipy.sparse as sp\n",
    "from mpl_toolkits import mplot3d\n",
    "from rom_am import DMDc, ROM, DMD\n",
    "import matplotlib.pyplot as plt"
   ]
  },
  {
   "cell_type": "markdown",
   "id": "478e8076",
   "metadata": {},
   "source": [
    "## Unstable Linear system"
   ]
  },
  {
   "cell_type": "markdown",
   "id": "6b4130af",
   "metadata": {},
   "source": [
    "We consider the following unstable linear system:\n",
    "\n",
    "$$\n",
    "\\begin{pmatrix}\n",
    "x_1  \\\\\n",
    "x_2 \\\\\n",
    "\\end{pmatrix}_{k+1} = \\begin{pmatrix}\n",
    "1.5 & 0  \\\\\n",
    "0 & 0.1 \\\\\n",
    "\\end{pmatrix} \\begin{pmatrix}\n",
    "x_1  \\\\\n",
    "x_2 \\\\\n",
    "\\end{pmatrix}_{k} + \\begin{pmatrix}\n",
    "-3  \\\\\n",
    "0 \\\\\n",
    "\\end{pmatrix} u_k $$\n",
    "\n",
    "Which should be modeled correctly by the DMD with control (DMDc), (of which the Affine DMD is a special case, when the input is fixed) whereas it can't be using the classical DMD.\n",
    "\n",
    "We will use the DMDc to learn $\\pmb{b} = \\begin{pmatrix}\n",
    "-3  \\\\\n",
    "0 \\\\\n",
    "\\end{pmatrix}$ as well as the system matrix $\\pmb{A}$"
   ]
  },
  {
   "cell_type": "markdown",
   "id": "89111e47",
   "metadata": {},
   "source": [
    "**Creating the snapshots**"
   ]
  },
  {
   "cell_type": "code",
   "execution_count": 2,
   "id": "25684ad5",
   "metadata": {},
   "outputs": [],
   "source": [
    "X = np.zeros((2, 4))\n",
    "Y = np.zeros((2, 4))\n",
    "X[:, 0] = np.array([4, 7])\n",
    "\n",
    "A = np.array([[1.5, 0], [0, 0.1]])\n",
    "B = np.array([-3, 0]).reshape((-1, 1))\n",
    "u = np.ones(4)\n",
    "\n",
    "Y[:, 0] = A @ X[:, 0] + B.ravel() * u[0]\n",
    "for i in range(Y.shape[1]-1):\n",
    "    Y[:, i+1] = A @ Y[:, i] + B.ravel() * u[i]\n",
    "X[:, 1::] = Y[:, :-1]"
   ]
  },
  {
   "cell_type": "markdown",
   "id": "a3b900c2",
   "metadata": {},
   "source": [
    "**DMDc Learning**"
   ]
  },
  {
   "cell_type": "markdown",
   "id": "3fd33d7f",
   "metadata": {},
   "source": [
    "We train the DMDc model on the extracted snapshots"
   ]
  },
  {
   "cell_type": "code",
   "execution_count": 3,
   "id": "20fe5373",
   "metadata": {},
   "outputs": [],
   "source": [
    "#u_input = np.ones((1, X.shape[1]))\n",
    "u_input = u.reshape((1, -1))\n",
    "dt = 10\n",
    "rank = 0\n",
    "dmdc = DMDc()\n",
    "dromc = ROM(dmdc)\n",
    "dromc.decompose(X,  Y = Y, dt = dt, rank =rank, Y_input=u_input)"
   ]
  },
  {
   "cell_type": "markdown",
   "id": "de31d909",
   "metadata": {},
   "source": [
    "We can show now the learned matrix $\\pmb{A}$"
   ]
  },
  {
   "cell_type": "code",
   "execution_count": 4,
   "id": "67639a3a",
   "metadata": {},
   "outputs": [
    {
     "data": {
      "text/plain": [
       "array([[ 1.50000000e+00, -6.66132691e-16],\n",
       "       [-4.92613273e-17,  1.00000000e-01]])"
      ]
     },
     "execution_count": 4,
     "metadata": {},
     "output_type": "execute_result"
    }
   ],
   "source": [
    "dromc.model.A"
   ]
  },
  {
   "cell_type": "markdown",
   "id": "9888dfcb",
   "metadata": {},
   "source": [
    "and the learned matrix $\\pmb{b}$"
   ]
  },
  {
   "cell_type": "code",
   "execution_count": 5,
   "id": "5c5d3b58",
   "metadata": {},
   "outputs": [
    {
     "data": {
      "text/plain": [
       "array([[-3.00000000e+00],\n",
       "       [ 5.55111512e-17]])"
      ]
     },
     "execution_count": 5,
     "metadata": {},
     "output_type": "execute_result"
    }
   ],
   "source": [
    "dromc.model.B"
   ]
  },
  {
   "cell_type": "markdown",
   "id": "b7bcfbd7",
   "metadata": {},
   "source": [
    "-------------------------------------------------------------------------------------------------------------------------------------------------"
   ]
  },
  {
   "cell_type": "markdown",
   "id": "3c671910",
   "metadata": {},
   "source": [
    "**Question : Can DMD learn it too ?**"
   ]
  },
  {
   "cell_type": "markdown",
   "id": "76d85731",
   "metadata": {},
   "source": [
    "Obviously, classical DMD is not able to learn a $\\pmb{X}^{k+1} = \\pmb{A} \\pmb{X}^{k} + \\pmb{b}$. And it approximates it through a $\\pmb{X}^{k+1} = \\pmb{A} \\pmb{X}^{k}$ model"
   ]
  },
  {
   "cell_type": "code",
   "execution_count": 6,
   "id": "45cd2e3d",
   "metadata": {},
   "outputs": [],
   "source": [
    "u_input = u.reshape((1, -1))\n",
    "dt = 10\n",
    "rank = 0\n",
    "dmd_ = DMD()\n",
    "drom_ = ROM(dmd_)\n",
    "drom_.decompose(X,  Y = Y, dt = dt, rank =rank,)"
   ]
  },
  {
   "cell_type": "markdown",
   "id": "3a24df66",
   "metadata": {},
   "source": [
    "$\\pmb{A}$ = "
   ]
  },
  {
   "cell_type": "code",
   "execution_count": 7,
   "id": "14643cfa",
   "metadata": {},
   "outputs": [
    {
     "data": {
      "text/plain": [
       "array([[5.39578170e-01, 1.14627842e-01],\n",
       "       [1.11900706e-16, 1.00000000e-01]])"
      ]
     },
     "execution_count": 7,
     "metadata": {},
     "output_type": "execute_result"
    }
   ],
   "source": [
    "drom_.model.A"
   ]
  },
  {
   "cell_type": "code",
   "execution_count": 8,
   "id": "367db244",
   "metadata": {},
   "outputs": [],
   "source": [
    "error_dmd = np.linalg.norm(Y - drom_.model.A @ X)\n",
    "error_dmdc = np.linalg.norm(Y - (dromc.model.A @ X + dromc.model.B @ u_input))"
   ]
  },
  {
   "cell_type": "code",
   "execution_count": 9,
   "id": "da0546dc",
   "metadata": {},
   "outputs": [
    {
     "name": "stdout",
     "output_type": "stream",
     "text": [
      "DMD error : 4.04284239297286\n",
      "DMDc error : 2.3337360971660245e-15\n"
     ]
    }
   ],
   "source": [
    "print(\"DMD error : \"+ str(error_dmd)+\"\\nDMDc error : \"+str(error_dmdc))"
   ]
  },
  {
   "cell_type": "markdown",
   "id": "293ec3fc",
   "metadata": {},
   "source": [
    "------------------------------------------------------------------------------------------------------------------------"
   ]
  },
  {
   "cell_type": "markdown",
   "id": "f12a8699",
   "metadata": {},
   "source": [
    "Answer : In this case, **No**"
   ]
  },
  {
   "cell_type": "markdown",
   "id": "598cca59",
   "metadata": {},
   "source": [
    "**DMDc Prediction**"
   ]
  },
  {
   "cell_type": "markdown",
   "id": "44cec935",
   "metadata": {},
   "source": [
    "We now make prediction using the learned DMDc model (the time vector is irrelevant in this case)\n",
    "\n",
    "We use here the reduced model (projection on POD of $\\pmb{X}$)\n",
    "\n",
    "$$\\tilde{\\pmb{x}}_{k+1} = \\tilde{\\pmb{A}} \\tilde{\\pmb{x}}_{k}+ \\tilde{\\pmb{b}}$$"
   ]
  },
  {
   "cell_type": "code",
   "execution_count": 10,
   "id": "ae5ff23a",
   "metadata": {},
   "outputs": [],
   "source": [
    "t = np.arange(0, 200, dt)\n",
    "predicted_X = np.real(dromc.predict(t, t1 = t[0], u_input = np.ones((1, t.shape[0]))))"
   ]
  },
  {
   "cell_type": "code",
   "execution_count": 11,
   "id": "2e9a0adf",
   "metadata": {},
   "outputs": [
    {
     "data": {
      "image/png": "[encoded data removed]",
      "text/plain": [
       "<Figure size 432x288 with 1 Axes>"
      ]
     },
     "metadata": {
      "needs_background": "light"
     },
     "output_type": "display_data"
    }
   ],
   "source": [
    "plt.plot(predicted_X[0, :], '.-');\n",
    "plt.ylabel(r\"$x_1$\");"
   ]
  },
  {
   "cell_type": "markdown",
   "id": "dd8d4bf5",
   "metadata": {},
   "source": [
    "(Unstable System) ($\\lambda_1 = 1.5$)"
   ]
  },
  {
   "cell_type": "markdown",
   "id": "17f20e0d",
   "metadata": {},
   "source": [
    "------------------------------------------------------------------------------------------------------"
   ]
  },
  {
   "cell_type": "markdown",
   "id": "21a3c74a",
   "metadata": {},
   "source": [
    "----------------------------------------------------------------------------------------------------"
   ]
  },
  {
   "cell_type": "markdown",
   "id": "dd22e04f",
   "metadata": {},
   "source": [
    "On the above case, we have no information on the continuous according system. We will test DMDc (Affine) on another similar system and experiment different prediction strategies"
   ]
  },
  {
   "cell_type": "markdown",
   "id": "28bd1b0a",
   "metadata": {},
   "source": [
    "## Another Linear system"
   ]
  },
  {
   "cell_type": "markdown",
   "id": "b58b6ef2",
   "metadata": {},
   "source": [
    "\n",
    "$$\n",
    "\\begin{pmatrix}\n",
    "\\dot{x_1(t)}  \\\\\n",
    "\\dot{x_2(t)}  \\\\\n",
    "\\end{pmatrix} = \\begin{pmatrix}\n",
    "-10 & 0  \\\\\n",
    "0 & -2 \\\\\n",
    "\\end{pmatrix} \\begin{pmatrix}\n",
    "x_1(t)  \\\\\n",
    "x_2(t) \\\\\n",
    "\\end{pmatrix}_{k} + \\begin{pmatrix}\n",
    "-0.3  \\\\\n",
    "0 \\\\\n",
    "\\end{pmatrix} u_k $$\n",
    "\n",
    "We will then obtain snapshots of $\\pmb{X}_c$ and $\\pmb{Y}_c$ through numerical integration through `scipy.integrate.solve_ivp` (MATLAB's `ode45`-like)"
   ]
  },
  {
   "cell_type": "code",
   "execution_count": 12,
   "id": "d7b79dc7",
   "metadata": {},
   "outputs": [],
   "source": [
    "cont_A = np.array([[-10, 0], [0, -2]])\n",
    "cont_B = np.array([-0.3, 0])\n",
    "\n",
    "import scipy.linalg as scia\n",
    "from scipy.integrate import solve_ivp\n",
    "def f(t, y): return cont_A @ y + cont_B\n",
    "sol = solve_ivp(f, [0, 10], np.array([4, 7]))"
   ]
  },
  {
   "cell_type": "markdown",
   "id": "2af7e345",
   "metadata": {},
   "source": [
    "We obtain the analogous discrete matrices through\n",
    "$$\n",
    "\\begin{pmatrix}\n",
    "\\dot{x(t)}  \\\\\n",
    "\\dot{u(t)}  \\\\\n",
    "\\end{pmatrix} = \\pmb{M} \\begin{pmatrix}\n",
    "{x(t)}  \\\\\n",
    "{u(t)}  \\\\\n",
    "\\end{pmatrix} = \\begin{pmatrix}\n",
    "cont\\_A & cont\\_B  \\\\\n",
    "0 & 0 \\\\\n",
    "\\end{pmatrix} \\begin{pmatrix}\n",
    "{x(t)}  \\\\\n",
    "{u(t)}  \\\\\n",
    "\\end{pmatrix} $$\n",
    "\n",
    "and \n",
    "$$\n",
    "\\pmb{F} = e^{\\pmb{M}  \\Delta t} = \\begin{pmatrix}\n",
    "A & B \\\\\n",
    "0 & 1 \\\\\n",
    "\\end{pmatrix} $$\n",
    "\n",
    "Choosing $\\Delta t = 0.05$"
   ]
  },
  {
   "cell_type": "code",
   "execution_count": 13,
   "id": "83d6e206",
   "metadata": {},
   "outputs": [],
   "source": [
    "sample_dt = 0.05\n",
    "M = scia.expm(np.block([[cont_A, cont_B.reshape((-1, 1))], [np.zeros((1, 2)), np.zeros((1, 1))]]) * sample_dt)\n",
    "\n",
    "A = M[:2, :2]\n",
    "B = M[:2, -1]"
   ]
  },
  {
   "cell_type": "code",
   "execution_count": 14,
   "id": "27ac9652",
   "metadata": {},
   "outputs": [
    {
     "name": "stdout",
     "output_type": "stream",
     "text": [
      "A =  [[0.60653066 0.        ]\n",
      " [0.         0.90483742]] \n",
      "B =  [-0.01180408  0.        ]\n"
     ]
    }
   ],
   "source": [
    "print(\"A = \", A, \"\\nB = \", B)"
   ]
  },
  {
   "cell_type": "markdown",
   "id": "21e47927",
   "metadata": {},
   "source": [
    "**Creation of discrete snapshots  $\\pmb{X}$ and $\\pmb{Y}$**\n",
    "\n",
    "The same approach as the previous case. We sample these snapshots on $t = [0, 1.95]$ equally sampled by $\\Delta t$"
   ]
  },
  {
   "cell_type": "code",
   "execution_count": 15,
   "id": "ec8ee1d7",
   "metadata": {},
   "outputs": [],
   "source": [
    "X = np.zeros((2, sol.t.shape[0]))\n",
    "Y = np.zeros((2, sol.t.shape[0]))\n",
    "X[:, 0] = np.array([4, 7])\n",
    "\n",
    "u = np.ones(sol.t.shape[0])\n",
    "\n",
    "Y[:, 0] = A @ X[:, 0] + B.ravel() * u[0]\n",
    "for i in range(Y.shape[1]-1):\n",
    "    Y[:, i+1] = A @ Y[:, i] + B.ravel() * u[i]\n",
    "X[:, 1::] = Y[:, :-1]\n",
    "\n",
    "t = np.arange(0, X.shape[1] * sample_dt, sample_dt)"
   ]
  },
  {
   "cell_type": "code",
   "execution_count": 16,
   "id": "5479577d",
   "metadata": {},
   "outputs": [
    {
     "data": {
      "image/png": "[encoded data removed]",
      "text/plain": [
       "<Figure size 432x288 with 1 Axes>"
      ]
     },
     "metadata": {
      "needs_background": "light"
     },
     "output_type": "display_data"
    }
   ],
   "source": [
    "plt.plot(t, X[0, :], label = \"Discrete system snaps\");\n",
    "plt.plot(sol.t, sol.y[0, :], '--', label = \"Continuous system (solved by scipy) snaps\");\n",
    "plt.legend();\n",
    "plt.grid();\n",
    "plt.tight_layout();"
   ]
  },
  {
   "cell_type": "markdown",
   "id": "b125e83b",
   "metadata": {},
   "source": [
    "**DMDc (Affine) Learning**"
   ]
  },
  {
   "cell_type": "code",
   "execution_count": 17,
   "id": "94654bf8",
   "metadata": {},
   "outputs": [],
   "source": [
    "u_input = np.ones((1, X.shape[1]))\n",
    "rank = 0\n",
    "dmdc = DMDc()\n",
    "dromc = ROM(dmdc)\n",
    "dromc.decompose(X,  Y = Y, dt = sample_dt, rank =rank, Y_input=u_input)"
   ]
  },
  {
   "cell_type": "markdown",
   "id": "d1adb93c",
   "metadata": {},
   "source": [
    "**DMDc Prediction**\n",
    "\n",
    "As before, we predict the solution through the discrete approach, on **obligatorily equally sampled timesteps** $t=[0, 3.9s]$ $$\\tilde{\\pmb{x}}_{k+1} = \\tilde{\\pmb{A}} \\tilde{\\pmb{x}}_{k}+ \\tilde{\\pmb{b}}$$"
   ]
  },
  {
   "cell_type": "code",
   "execution_count": 18,
   "id": "5527ade0",
   "metadata": {},
   "outputs": [],
   "source": [
    "t_pred = np.arange(0, 2*t[-1], sample_dt)"
   ]
  },
  {
   "cell_type": "code",
   "execution_count": 19,
   "id": "6b62755a",
   "metadata": {},
   "outputs": [
    {
     "data": {
      "image/png": "[encoded data removed]",
      "text/plain": [
       "<Figure size 432x288 with 1 Axes>"
      ]
     },
     "metadata": {
      "needs_background": "light"
     },
     "output_type": "display_data"
    }
   ],
   "source": [
    "predicted_X_1 = np.real(dromc.predict(t_pred, t1 = t[0], u_input = np.ones((1, t_pred.shape[0]))))\n",
    "plt.plot(np.concatenate((t_pred, np.array([t_pred[-1] + sample_dt]))), predicted_X_1[0, :]);\n",
    "plt.title(\"Discrete DMDc prediction\");\n",
    "plt.grid();\n",
    "plt.tight_layout();"
   ]
  },
  {
   "cell_type": "markdown",
   "id": "dbf04757",
   "metadata": {},
   "source": [
    "**Continuous prediction !!**"
   ]
  },
  {
   "cell_type": "markdown",
   "id": "1d1d357e",
   "metadata": {},
   "source": [
    "When the inputs are fixed (our case of Affine DMD), it is possible to write the DMDc prediction on the continuous system, and thus predictions become possible on arbitraty time instants, and benefiting from the eigendecomposition of the DMD operator:\n",
    "$$\\pmb{x(t)} = \\Phi (e^{\\Omega t} \\pmb b - \\Omega^{-1} \\Phi^{\\dagger}\\hat{\\pmb{U}} \\tilde{\\pmb{B}} u_{input}) $$\n",
    "\n",
    "This is informed to `rom_am` through the `fixed_input = True` flag. The time vector now **is** important and represents the time instants on which the ROM solution is computed"
   ]
  },
  {
   "cell_type": "code",
   "execution_count": 20,
   "id": "329e181d",
   "metadata": {},
   "outputs": [
    {
     "data": {
      "image/png": "[encoded data removed]",
      "text/plain": [
       "<Figure size 432x288 with 1 Axes>"
      ]
     },
     "metadata": {
      "needs_background": "light"
     },
     "output_type": "display_data"
    }
   ],
   "source": [
    "predicted_X = np.real(dromc.predict(t_pred, t1 = t[0], u_input = np.ones((1, t_pred.shape[0])), fixed_input = True, method=1))\n",
    "plt.plot(t_pred, predicted_X[0, :]);\n",
    "plt.title(\"Continuous DMDc prediction\");\n",
    "plt.grid();\n",
    "plt.tight_layout();"
   ]
  },
  {
   "cell_type": "code",
   "execution_count": null,
   "id": "f5072f4b",
   "metadata": {},
   "outputs": [],
   "source": []
  }
 ],
 "metadata": {
  "kernelspec": {
   "display_name": "Python 3 (ipykernel)",
   "language": "python",
   "name": "python3"
  },
  "language_info": {
   "codemirror_mode": {
    "name": "ipython",
    "version": 3
   },
   "file_extension": ".py",
   "mimetype": "text/x-python",
   "name": "python",
   "nbconvert_exporter": "python",
   "pygments_lexer": "ipython3",
   "version": "3.8.10"
  }
 },
 "nbformat": 4,
 "nbformat_minor": 5
}
