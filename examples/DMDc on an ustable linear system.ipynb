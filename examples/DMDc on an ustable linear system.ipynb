{
 "cells": [
  {
   "cell_type": "code",
   "execution_count": 1,
   "metadata": {},
   "outputs": [],
   "source": [
    "import numpy as np\n",
    "import scipy.sparse as sp\n",
    "from mpl_toolkits import mplot3d\n",
    "from rom_am import DMDc, ROM, DMD\n",
    "import matplotlib.pyplot as plt"
   ]
  },
  {
   "cell_type": "markdown",
   "metadata": {},
   "source": [
    "## Unstable Linear system"
   ]
  },
  {
   "cell_type": "markdown",
   "metadata": {},
   "source": [
    "We consider the following unstable linear system:\n",
    "\n",
    "$$\n",
    "\\begin{pmatrix}\n",
    "x_1  \\\\\n",
    "x_2 \\\\\n",
    "\\end{pmatrix}_{k+1} = \\begin{pmatrix}\n",
    "1.5 & 0  \\\\\n",
    "0 & 0.1 \\\\\n",
    "\\end{pmatrix} \\begin{pmatrix}\n",
    "x_1  \\\\\n",
    "x_2 \\\\\n",
    "\\end{pmatrix}_{k} + \\begin{pmatrix}\n",
    "-3  \\\\\n",
    "0 \\\\\n",
    "\\end{pmatrix} u_k $$\n",
    "\n",
    "Which should be modeled correctly by the DMD with control (DMDc), (of which the Affine DMD is a special case, when the input is fixed) whereas it can't be using the classical DMD.\n",
    "\n",
    "We will use the DMDc to learn $\\pmb{b} = \\begin{pmatrix}\n",
    "-3  \\\\\n",
    "0 \\\\\n",
    "\\end{pmatrix}$ as well as the system matrix $\\pmb{A}$"
   ]
  },
  {
   "cell_type": "markdown",
   "metadata": {},
   "source": [
    "**Creating the snapshots**"
   ]
  },
  {
   "cell_type": "code",
   "execution_count": 2,
   "metadata": {},
   "outputs": [],
   "source": [
    "X = np.zeros((2, 4))\n",
    "Y = np.zeros((2, 4))\n",
    "X[:, 0] = np.array([4, 7])\n",
    "\n",
    "A = np.array([[1.5, 0], [0, 0.1]])\n",
    "B = np.array([-3, 0]).reshape((-1, 1))\n",
    "u = np.ones(4)\n",
    "\n",
    "Y[:, 0] = A @ X[:, 0] + B.ravel() * u[0]\n",
    "for i in range(Y.shape[1]-1):\n",
    "    Y[:, i+1] = A @ Y[:, i] + B.ravel() * u[i]\n",
    "X[:, 1::] = Y[:, :-1]"
   ]
  },
  {
   "cell_type": "markdown",
   "metadata": {},
   "source": [
    "**DMDc Learning**"
   ]
  },
  {
   "cell_type": "markdown",
   "metadata": {},
   "source": [
    "We train the DMDc model on the extracted snapshots"
   ]
  },
  {
   "cell_type": "code",
   "execution_count": 3,
   "metadata": {},
   "outputs": [],
   "source": [
    "#u_input = np.ones((1, X.shape[1]))\n",
    "u_input = u.reshape((1, -1))\n",
    "dt = 10\n",
    "rank = 0\n",
    "dmdc = DMDc()\n",
    "dromc = ROM(dmdc)\n",
    "dromc.decompose(X,  Y = Y, dt = dt, rank =rank, Y_input=u_input)"
   ]
  },
  {
   "cell_type": "markdown",
   "metadata": {},
   "source": [
    "We can show now the learned matrix $\\pmb{A}$"
   ]
  },
  {
   "cell_type": "code",
   "execution_count": 4,
   "metadata": {},
   "outputs": [
    {
     "data": {
      "text/plain": [
       "array([[ 1.50000000e+00, -6.66132691e-16],\n",
       "       [-4.92613273e-17,  1.00000000e-01]])"
      ]
     },
     "execution_count": 4,
     "metadata": {},
     "output_type": "execute_result"
    }
   ],
   "source": [
    "dromc.model.A"
   ]
  },
  {
   "cell_type": "markdown",
   "metadata": {},
   "source": [
    "and the learned matrix $\\pmb{b}$"
   ]
  },
  {
   "cell_type": "code",
   "execution_count": 5,
   "metadata": {},
   "outputs": [
    {
     "data": {
      "text/plain": [
       "array([[-3.00000000e+00],\n",
       "       [ 5.55111512e-17]])"
      ]
     },
     "execution_count": 5,
     "metadata": {},
     "output_type": "execute_result"
    }
   ],
   "source": [
    "dromc.model.B"
   ]
  },
  {
   "cell_type": "markdown",
   "metadata": {},
   "source": [
    "-------------------------------------------------------------------------------------------------------------------------------------------------"
   ]
  },
  {
   "cell_type": "markdown",
   "metadata": {},
   "source": [
    "**Question : Can DMD learn it too ?**"
   ]
  },
  {
   "cell_type": "markdown",
   "metadata": {},
   "source": [
    "Obviously, classical DMD is not able to learn a $\\pmb{X}^{k+1} = \\pmb{A} \\pmb{X}^{k} + \\pmb{b}$. And it approximates it through a $\\pmb{X}^{k+1} = \\pmb{A} \\pmb{X}^{k}$ model"
   ]
  },
  {
   "cell_type": "code",
   "execution_count": 6,
   "metadata": {},
   "outputs": [],
   "source": [
    "u_input = u.reshape((1, -1))\n",
    "dt = 10\n",
    "rank = 0\n",
    "dmd_ = DMD()\n",
    "drom_ = ROM(dmd_)\n",
    "drom_.decompose(X,  Y = Y, dt = dt, rank =rank,)"
   ]
  },
  {
   "cell_type": "markdown",
   "metadata": {},
   "source": [
    "$\\pmb{A}$ = "
   ]
  },
  {
   "cell_type": "code",
   "execution_count": 7,
   "metadata": {},
   "outputs": [
    {
     "data": {
      "text/plain": [
       "array([[5.39578170e-01, 1.14627842e-01],\n",
       "       [1.11900706e-16, 1.00000000e-01]])"
      ]
     },
     "execution_count": 7,
     "metadata": {},
     "output_type": "execute_result"
    }
   ],
   "source": [
    "drom_.model.A"
   ]
  },
  {
   "cell_type": "code",
   "execution_count": 8,
   "metadata": {},
   "outputs": [],
   "source": [
    "error_dmd = np.linalg.norm(Y - drom_.model.A @ X)\n",
    "error_dmdc = np.linalg.norm(Y - (dromc.model.A @ X + dromc.model.B @ u_input))"
   ]
  },
  {
   "cell_type": "code",
   "execution_count": 9,
   "metadata": {},
   "outputs": [
    {
     "name": "stdout",
     "output_type": "stream",
     "text": [
      "DMD error : 4.04284239297286\n",
      "DMDc error : 2.3337360971660245e-15\n"
     ]
    }
   ],
   "source": [
    "print(\"DMD error : \"+ str(error_dmd)+\"\\nDMDc error : \"+str(error_dmdc))"
   ]
  },
  {
   "cell_type": "markdown",
   "metadata": {},
   "source": [
    "------------------------------------------------------------------------------------------------------------------------"
   ]
  },
  {
   "cell_type": "markdown",
   "metadata": {},
   "source": [
    "Answer : In this case, **No**"
   ]
  },
  {
   "cell_type": "markdown",
   "metadata": {},
   "source": [
    "**DMDc Prediction**"
   ]
  },
  {
   "cell_type": "markdown",
   "metadata": {},
   "source": [
    "We now make prediction using the learned DMDc model (the time vector is irrelevant in this case)\n",
    "\n",
    "We use here the reduced model (projection on POD of $\\pmb{X}$)\n",
    "\n",
    "$$\\tilde{\\pmb{x}}_{k+1} = \\tilde{\\pmb{A}} \\tilde{\\pmb{x}}_{k}+ \\tilde{\\pmb{b}}$$"
   ]
  },
  {
   "cell_type": "code",
   "execution_count": 10,
   "metadata": {},
   "outputs": [],
   "source": [
    "t = np.arange(0, 200, dt)\n",
    "predicted_X = np.real(dromc.predict(t, t1 = t[0], u_input = np.ones((1, t.shape[0]))))"
   ]
  },
  {
   "cell_type": "code",
   "execution_count": 11,
   "metadata": {},
   "outputs": [
    {
     "data": {
      "image/png": "[encoded data removed]",
      "text/plain": [
       "<Figure size 432x288 with 1 Axes>"
      ]
     },
     "metadata": {
      "needs_background": "light"
     },
     "output_type": "display_data"
    }
   ],
   "source": [
    "plt.plot(predicted_X[0, :], '.-');\n",
    "plt.ylabel(r\"$x_1$\");\n",
    "plt.xlabel('t');"
   ]
  },
  {
   "cell_type": "markdown",
   "metadata": {},
   "source": [
    "(Unstable System) ($\\lambda_1 = 1.5$)"
   ]
  },
  {
   "cell_type": "markdown",
   "metadata": {},
   "source": [
    "------------------------------------------------------------------------------------------------------"
   ]
  },
  {
   "cell_type": "markdown",
   "metadata": {},
   "source": [
    "----------------------------------------------------------------------------------------------------"
   ]
  },
  {
   "cell_type": "markdown",
   "metadata": {},
   "source": [
    "On the above case, we have no information on the continuous according system. We will test DMDc (Affine) on another similar system and experiment different prediction strategies"
   ]
  },
  {
   "cell_type": "markdown",
   "metadata": {},
   "source": [
    "## Another Linear system"
   ]
  },
  {
   "cell_type": "markdown",
   "metadata": {},
   "source": [
    "\n",
    "$$\n",
    "\\begin{pmatrix}\n",
    "\\dot{x_1}(t)  \\\\\n",
    "\\dot{x_2}(t)  \\\\\n",
    "\\end{pmatrix} = \\begin{pmatrix}\n",
    "-1.7 & 2  \\\\\n",
    "0.2 & -1 \\\\\n",
    "\\end{pmatrix} \\begin{pmatrix}\n",
    "x_1(t)  \\\\\n",
    "x_2(t) \\\\\n",
    "\\end{pmatrix}_{k} + \\begin{pmatrix}\n",
    "-0.2  \\\\\n",
    "0 \\\\\n",
    "\\end{pmatrix} u_k $$\n",
    "\n",
    "We will then obtain snapshots of $\\pmb{X}_c$ and $\\pmb{Y}_c$ through numerical integration through `scipy.integrate.solve_ivp` (MATLAB's `ode45`-like)"
   ]
  },
  {
   "cell_type": "code",
   "execution_count": 12,
   "metadata": {},
   "outputs": [],
   "source": [
    "cont_A = np.array([[-1.7, 2], [0.2, -1]])\n",
    "cont_B = np.array([-0.2, 0])\n",
    "\n",
    "import scipy.linalg as scia\n",
    "from scipy.integrate import solve_ivp\n",
    "def f(t, y): return cont_A @ y + cont_B\n",
    "sample_dt = 0.05\n",
    "t_eval = np.arange(0, 5.05, step = sample_dt)\n",
    "sol = solve_ivp(f, [0, 5.], np.array([0.5, 4.]), t_eval = t_eval)"
   ]
  },
  {
   "cell_type": "markdown",
   "metadata": {},
   "source": [
    "We obtain the analogous discrete matrices through\n",
    "$$\n",
    "\\begin{pmatrix}\n",
    "\\dot{x}(t)  \\\\\n",
    "\\dot{u}(t)  \\\\\n",
    "\\end{pmatrix} = \\pmb{M} \\begin{pmatrix}\n",
    "{x(t)}  \\\\\n",
    "{u(t)}  \\\\\n",
    "\\end{pmatrix} = \\begin{pmatrix}\n",
    "cont\\_A & cont\\_B  \\\\\n",
    "0 & 0 \\\\\n",
    "\\end{pmatrix} \\begin{pmatrix}\n",
    "{x(t)}  \\\\\n",
    "{u(t)}  \\\\\n",
    "\\end{pmatrix} $$\n",
    "\n",
    "and \n",
    "$$\n",
    "\\pmb{F} = e^{\\pmb{M}  \\Delta t} = \\begin{pmatrix}\n",
    "A & B \\\\\n",
    "0 & 1 \\\\\n",
    "\\end{pmatrix} $$\n",
    "\n",
    "Choosing $\\Delta t = 0.05$"
   ]
  },
  {
   "cell_type": "code",
   "execution_count": 13,
   "metadata": {},
   "outputs": [],
   "source": [
    "M = scia.expm(np.block([[cont_A, cont_B.reshape((-1, 1))], [np.zeros((1, 2)), np.zeros((1, 1))]]) * sample_dt)\n",
    "\n",
    "A = M[:2, :2]\n",
    "B = M[:2, -1]"
   ]
  },
  {
   "cell_type": "code",
   "execution_count": 14,
   "metadata": {},
   "outputs": [
    {
     "name": "stdout",
     "output_type": "stream",
     "text": [
      "A =  [[0.91897698 0.09349312]\n",
      " [0.00934931 0.95169958]] \n",
      "B =  [-9.58836782e-03 -4.78110994e-05]\n"
     ]
    }
   ],
   "source": [
    "print(\"A = \", A, \"\\nB = \", B)"
   ]
  },
  {
   "cell_type": "markdown",
   "metadata": {},
   "source": [
    "**Creation of discrete snapshots  $\\pmb{X}$ and $\\pmb{Y}$**\n",
    "\n",
    "The same approach as the previous case. We sample these snapshots on $t = [0, 1.95]$ equally sampled by $\\Delta t$"
   ]
  },
  {
   "cell_type": "code",
   "execution_count": 15,
   "metadata": {},
   "outputs": [],
   "source": [
    "X = np.zeros((2, sol.t.shape[0]))\n",
    "Y = np.zeros((2, sol.t.shape[0]))\n",
    "X[:, 0] = np.array([0.5, 4.])\n",
    "\n",
    "u = np.ones(sol.t.shape[0])\n",
    "\n",
    "Y[:, 0] = A @ X[:, 0] + B.ravel() * u[0]\n",
    "for i in range(Y.shape[1]-1):\n",
    "    Y[:, i+1] = A @ Y[:, i] + B.ravel() * u[i]\n",
    "X[:, 1::] = Y[:, :-1]\n",
    "\n",
    "t = t_eval.copy()"
   ]
  },
  {
   "cell_type": "code",
   "execution_count": 16,
   "metadata": {},
   "outputs": [
    {
     "data": {
      "image/png": "[encoded data removed]",
      "text/plain": [
       "<Figure size 432x288 with 1 Axes>"
      ]
     },
     "metadata": {
      "needs_background": "light"
     },
     "output_type": "display_data"
    }
   ],
   "source": [
    "plt.plot(sol.y[0, :], sol.y[1, :], label = \"Continuous (via scipy) system snaps\");\n",
    "plt.plot(X[0, :], X[1, :], label = \"Discrete system snaps\");\n",
    "plt.xlabel(\"$x_0$\");\n",
    "plt.ylabel(\"$x_1$\");\n",
    "plt.legend();\n",
    "plt.grid();\n",
    "plt.tight_layout();"
   ]
  },
  {
   "cell_type": "markdown",
   "metadata": {},
   "source": [
    "**DMDc (Affine) Learning**"
   ]
  },
  {
   "cell_type": "code",
   "execution_count": 17,
   "metadata": {},
   "outputs": [],
   "source": [
    "u_input = np.ones((1, X.shape[1]))\n",
    "rank = 0\n",
    "dmdc = DMDc()\n",
    "dromc = ROM(dmdc)\n",
    "dromc.decompose(X,  Y = Y, dt = sample_dt, rank =rank, Y_input=u_input)"
   ]
  },
  {
   "cell_type": "markdown",
   "metadata": {},
   "source": [
    "**DMDc Prediction**\n",
    "\n",
    "As before, we predict the solution through the discrete approach, on **obligatorily equally sampled timesteps** $t=[0, 3.9s]$ $$\\tilde{\\pmb{x}}_{k+1} = \\tilde{\\pmb{A}} \\tilde{\\pmb{x}}_{k}+ \\tilde{\\pmb{b}}$$"
   ]
  },
  {
   "cell_type": "code",
   "execution_count": 18,
   "metadata": {},
   "outputs": [],
   "source": [
    "t_pred = t_eval.copy()"
   ]
  },
  {
   "cell_type": "code",
   "execution_count": 19,
   "metadata": {},
   "outputs": [
    {
     "data": {
      "image/png": "[encoded data removed]",
      "text/plain": [
       "<Figure size 432x288 with 1 Axes>"
      ]
     },
     "metadata": {
      "needs_background": "light"
     },
     "output_type": "display_data"
    }
   ],
   "source": [
    "predicted_X_1 = np.real(dromc.predict(t_pred, t1 = t[0], u_input = np.ones((1, t_pred.shape[0]-1))))\n",
    "plt.plot(t_pred, predicted_X_1[0, :]);\n",
    "plt.title(\"Discrete DMDc prediction\");\n",
    "plt.grid();\n",
    "plt.xlabel('t');\n",
    "plt.ylabel('$x_0$');\n",
    "plt.tight_layout();"
   ]
  },
  {
   "cell_type": "markdown",
   "metadata": {},
   "source": [
    "**Continuous prediction !!**"
   ]
  },
  {
   "cell_type": "markdown",
   "metadata": {},
   "source": [
    "When the inputs are fixed (our case of Affine DMD), it is possible to write the DMDc prediction on the continuous system, and thus predictions become possible on arbitraty time instants, and benefiting from the eigendecomposition of the DMD operator:\n",
    "$$\\pmb{x(t)} = \\Phi (e^{\\Omega t} \\pmb b) - \\hat{\\pmb{U}} \\tilde{\\pmb{B}} u_{input} $$\n",
    "\n",
    "This is informed to `rom_am` through the `fixed_input = True` flag. The time vector now **is** important and represents the time instants on which the ROM solution is computed"
   ]
  },
  {
   "cell_type": "code",
   "execution_count": 20,
   "metadata": {},
   "outputs": [
    {
     "data": {
      "image/png": "[encoded data removed]",
      "text/plain": [
       "<Figure size 432x288 with 1 Axes>"
      ]
     },
     "metadata": {
      "needs_background": "light"
     },
     "output_type": "display_data"
    }
   ],
   "source": [
    "predicted_X = np.real(dromc.predict(t_pred, t1 = t[0], u_input = np.ones((1, t_pred.shape[0])), fixed_input = True, method=0))\n",
    "plt.plot(t_pred, predicted_X[0, :]);\n",
    "plt.title(\"Continuous DMDc prediction\");\n",
    "plt.grid();\n",
    "plt.xlabel('t');\n",
    "plt.ylabel('$x_0$');\n",
    "plt.tight_layout();"
   ]
  },
  {
   "cell_type": "code",
   "execution_count": 21,
   "metadata": {},
   "outputs": [
    {
     "data": {
      "image/png": "[encoded data removed]",
      "text/plain": [
       "<Figure size 432x288 with 1 Axes>"
      ]
     },
     "metadata": {
      "needs_background": "light"
     },
     "output_type": "display_data"
    }
   ],
   "source": [
    "plt.plot(predicted_X[0, :], predicted_X[1, :]);\n",
    "plt.plot(predicted_X_1[0, :], predicted_X_1[1, :]);\n",
    "plt.xlabel(\"$x_0$\");\n",
    "plt.ylabel(\"$x_1$\");"
   ]
  },
  {
   "cell_type": "code",
   "execution_count": null,
   "metadata": {},
   "outputs": [],
   "source": []
  }
 ],
 "metadata": {
  "kernelspec": {
   "display_name": "Python 3",
   "language": "python",
   "name": "python3"
  },
  "language_info": {
   "codemirror_mode": {
    "name": "ipython",
    "version": 3
   },
   "file_extension": ".py",
   "mimetype": "text/x-python",
   "name": "python",
   "nbconvert_exporter": "python",
   "pygments_lexer": "ipython3",
   "version": "3.8.3"
  }
 },
 "nbformat": 4,
 "nbformat_minor": 5
}
